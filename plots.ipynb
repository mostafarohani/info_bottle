{
 "cells": [
  {
   "cell_type": "code",
   "execution_count": 5,
   "metadata": {},
   "outputs": [
    {
     "name": "stdout",
     "output_type": "stream",
     "text": [
      "dict_keys(['itr10_layer4', 'itr5_layer4', 'itr20_layer4', 'itr10_layer3', 'itr20_layer1', 'itr10_layer1', 'itr5_layer1', 'itr9000_layer3', 'itr1000_layer1', 'itr1000_layer3', 'itr5_layer3', 'itr0_layer1', 'itr1000_layer4', 'itr9000_layer1', 'itr20_layer3', 'itr0_layer3', 'itr0_layer4', 'itr9000_layer4'])\n"
     ]
    }
   ],
   "source": [
    "import numpy as np\n",
    "import pickle\n",
    "from matplotlib import pyplot as plt\n",
    "%matplotlib inline\n",
    "\n",
    "data = {}\n",
    "for i in range(4):\n",
    "  with open('./output_%d.pkl' % i, 'rb') as f:\n",
    "    data.update(pickle.load(f))\n",
    "print(data.keys())"
   ]
  },
  {
   "cell_type": "code",
   "execution_count": 7,
   "metadata": {},
   "outputs": [
    {
     "name": "stdout",
     "output_type": "stream",
     "text": [
      "1\n",
      "3.47787 0.00529664 3.47258 0.00152295\n",
      "3.50842 0.00893947 3.49948 0.00254801\n",
      "3.56909 0.00599279 3.5631 0.00167908\n",
      "3.60328 -0.00286424 3.60615 -0.000794896\n",
      "3.7154 0.0104385 3.70496 0.00280952\n",
      "3.47227 -0.00285865 3.47513 -0.000823281\n",
      "----------\n",
      "3\n",
      "3.21254 0.00158598 3.21096 0.000493685\n",
      "3.27462 0.00931355 3.2653 0.00284417\n",
      "3.32388 -0.0172452 3.34112 -0.00518828\n",
      "3.35542 0.00260978 3.35281 0.000777782\n",
      "2.89618 -0.00953139 2.90571 -0.00329102\n",
      "2.31351 0.0152161 2.29829 0.00657707\n",
      "----------\n",
      "4\n",
      "3.06434 -0.00250269 3.06685 -0.000816713\n",
      "3.70998 0.00624374 3.70373 0.00168296\n",
      "3.73499 -0.00362289 3.73862 -0.000969984\n",
      "2.92949 -0.00182501 2.93132 -0.000622979\n",
      "2.22615 -0.00165052 2.2278 -0.000741425\n",
      "1.91047 -0.0043706 1.91484 -0.00228771\n",
      "----------\n"
     ]
    },
    {
     "data": {
      "image/png": "[encoded data removed]",
      "text/plain": [
       "<matplotlib.figure.Figure at 0x7fa23a04a8d0>"
      ]
     },
     "metadata": {},
     "output_type": "display_data"
    }
   ],
   "source": [
    "layers = [1, 3, 4]\n",
    "iters = [0, 5, 10, 20, 1000, 9000]\n",
    "\n",
    "plt.figure(figsize=(6, 6))\n",
    "for layer in layers:\n",
    "  I_ty = [data['itr%d_layer%d' % (i, layer)]['mi'] for i in iters]\n",
    "  I_tx = [data['itr%d_layer%d' % (i, layer)]['ent'] for i in iters]\n",
    "  plt.plot(I_tx, I_ty)\n",
    "  print(layer)\n",
    "  for (itx, ity) in zip(I_tx, I_ty):\n",
    "    print(itx, ity, itx - ity, ity/itx)\n",
    "  print('-' * 10)\n"
   ]
  },
  {
   "cell_type": "code",
   "execution_count": 4,
   "metadata": {},
   "outputs": [
    {
     "data": {
      "text/plain": [
       "{'itr0_layer1': {'mi': 1.0647991, 'nll': 3.4700642},\n",
       " 'itr0_layer3': {'mi': 0.98236525, 'nll': 3.2014217},\n",
       " 'itr0_layer4': {'mi': 0.93964994, 'nll': 3.0622172},\n",
       " 'itr1000_layer1': {'mi': 1.14342, 'nll': 3.7262812},\n",
       " 'itr1000_layer3': {'mi': 0.89455903, 'nll': 2.9152708},\n",
       " 'itr1000_layer4': {'mi': 0.68432498, 'nll': 2.2301407},\n",
       " 'itr10_layer1': {'mi': 1.0948524, 'nll': 3.5680051},\n",
       " 'itr10_layer3': {'mi': 1.0309607, 'nll': 3.3597884},\n",
       " 'itr10_layer4': {'mi': 1.1429558, 'nll': 3.7247686},\n",
       " 'itr20_layer1': {'mi': 1.1064242, 'nll': 3.6057162},\n",
       " 'itr20_layer3': {'mi': 1.0285443, 'nll': 3.3519142},\n",
       " 'itr20_layer4': {'mi': 0.89996755, 'nll': 2.9328966},\n",
       " 'itr5_layer1': {'mi': 1.0727824, 'nll': 3.4960814},\n",
       " 'itr5_layer3': {'mi': 1.0047495, 'nll': 3.2743695},\n",
       " 'itr5_layer4': {'mi': 1.1389623, 'nll': 3.7117546},\n",
       " 'itr9000_layer1': {'mi': 1.0651833, 'nll': 3.4713168},\n",
       " 'itr9000_layer3': {'mi': 0.70703685, 'nll': 2.3041563},\n",
       " 'itr9000_layer4': {'mi': 0.58664668, 'nll': 1.9118178}}"
      ]
     },
     "execution_count": 4,
     "metadata": {},
     "output_type": "execute_result"
    }
   ],
   "source": [
    "data"
   ]
  },
  {
   "cell_type": "code",
   "execution_count": null,
   "metadata": {
    "collapsed": true
   },
   "outputs": [],
   "source": []
  }
 ],
 "metadata": {
  "kernelspec": {
   "display_name": "Python 3",
   "language": "python",
   "name": "python3"
  },
  "language_info": {
   "codemirror_mode": {
    "name": "ipython",
    "version": 3
   },
   "file_extension": ".py",
   "mimetype": "text/x-python",
   "name": "python",
   "nbconvert_exporter": "python",
   "pygments_lexer": "ipython3",
   "version": "3.5.2"
  },
  "widgets": {
   "state": {},
   "version": "1.1.2"
  }
 },
 "nbformat": 4,
 "nbformat_minor": 2
}
